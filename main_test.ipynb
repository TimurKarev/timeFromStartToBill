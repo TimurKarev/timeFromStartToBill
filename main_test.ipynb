{
 "cells": [
  {
   "cell_type": "code",
   "execution_count": 1,
   "metadata": {
    "collapsed": true
   },
   "outputs": [],
   "source": [
    "%load_ext autoreload\n",
    "from main import clean_1c_exel\n",
    "%autoreload 2"
   ]
  },
  {
   "cell_type": "code",
   "execution_count": 4,
   "outputs": [
    {
     "data": {
      "text/plain": "                                                       0  \\\n0      Произвольный отчет: Анализ материалов по заказ...   \n1      Период: 01.01.2020 - 24.12.2020\\nГруппировки с...   \n2                                                    NaN   \n3                                                    NaN   \n4                                             Параметры:   \n...                                                  ...   \n12854               Шина АД-31т гт15176 10х100х4000 (кг)   \n12855                    Шина АД-31т гт15176 10х120 (кг)   \n12856                     Шина АД-31т гт15176 8х60х4000    \n12857       Шпилька FH M6-20 запрессовываемая резьбовая    \n12858                                              Итого   \n\n                                        1           2   3   4  \\\n0                                     NaN         NaN NaN NaN   \n1                                     NaN         NaN NaN NaN   \n2                                     NaN         NaN NaN NaN   \n3                                     NaN         NaN NaN NaN   \n4      Начало периода: 01.01.2020 0:00:00         NaN NaN NaN   \n...                                   ...         ...  ..  ..   \n12854                                 NaN  15.12.2020 NaN NaN   \n12855                                 NaN  15.12.2020 NaN NaN   \n12856                                 NaN  15.12.2020 NaN NaN   \n12857                                 NaN  15.12.2020 NaN NaN   \n12858                                 NaN         NaN NaN NaN   \n\n                         5                    6               7            8  \\\n0                      NaN                  NaN             NaN          NaN   \n1                      NaN                  NaN             NaN          NaN   \n2                      NaN                  NaN             NaN          NaN   \n3                      NaN                  NaN             NaN          NaN   \n4                      NaN                  NaN             NaN          NaN   \n...                    ...                  ...             ...          ...   \n12854  24.12.2020 12:45:01  24.12.2020 12:45:02  Меньшиков И.В.  Аксенова В.   \n12855  24.12.2020 12:45:01  24.12.2020 12:45:02  Меньшиков И.В.          NaN   \n12856  24.12.2020 12:45:01  24.12.2020 12:45:02  Меньшиков И.В.  Аксенова В.   \n12857                  NaN                  NaN             NaN          NaN   \n12858                  NaN                  NaN             NaN          NaN   \n\n                        9  \n0                     NaN  \n1                     NaN  \n2                     NaN  \n3                     NaN  \n4                     NaN  \n...                   ...  \n12854  24.12.2020 0:00:00  \n12855                 NaN  \n12856  24.12.2020 0:00:00  \n12857                 NaN  \n12858                 NaN  \n\n[12859 rows x 10 columns]",
      "text/html": "<div>\n<style scoped>\n    .dataframe tbody tr th:only-of-type {\n        vertical-align: middle;\n    }\n\n    .dataframe tbody tr th {\n        vertical-align: top;\n    }\n\n    .dataframe thead th {\n        text-align: right;\n    }\n</style>\n<table border=\"1\" class=\"dataframe\">\n  <thead>\n    <tr style=\"text-align: right;\">\n      <th></th>\n      <th>0</th>\n      <th>1</th>\n      <th>2</th>\n      <th>3</th>\n      <th>4</th>\n      <th>5</th>\n      <th>6</th>\n      <th>7</th>\n      <th>8</th>\n      <th>9</th>\n    </tr>\n  </thead>\n  <tbody>\n    <tr>\n      <th>0</th>\n      <td>Произвольный отчет: Анализ материалов по заказ...</td>\n      <td>NaN</td>\n      <td>NaN</td>\n      <td>NaN</td>\n      <td>NaN</td>\n      <td>NaN</td>\n      <td>NaN</td>\n      <td>NaN</td>\n      <td>NaN</td>\n      <td>NaN</td>\n    </tr>\n    <tr>\n      <th>1</th>\n      <td>Период: 01.01.2020 - 24.12.2020\\nГруппировки с...</td>\n      <td>NaN</td>\n      <td>NaN</td>\n      <td>NaN</td>\n      <td>NaN</td>\n      <td>NaN</td>\n      <td>NaN</td>\n      <td>NaN</td>\n      <td>NaN</td>\n      <td>NaN</td>\n    </tr>\n    <tr>\n      <th>2</th>\n      <td>NaN</td>\n      <td>NaN</td>\n      <td>NaN</td>\n      <td>NaN</td>\n      <td>NaN</td>\n      <td>NaN</td>\n      <td>NaN</td>\n      <td>NaN</td>\n      <td>NaN</td>\n      <td>NaN</td>\n    </tr>\n    <tr>\n      <th>3</th>\n      <td>NaN</td>\n      <td>NaN</td>\n      <td>NaN</td>\n      <td>NaN</td>\n      <td>NaN</td>\n      <td>NaN</td>\n      <td>NaN</td>\n      <td>NaN</td>\n      <td>NaN</td>\n      <td>NaN</td>\n    </tr>\n    <tr>\n      <th>4</th>\n      <td>Параметры:</td>\n      <td>Начало периода: 01.01.2020 0:00:00</td>\n      <td>NaN</td>\n      <td>NaN</td>\n      <td>NaN</td>\n      <td>NaN</td>\n      <td>NaN</td>\n      <td>NaN</td>\n      <td>NaN</td>\n      <td>NaN</td>\n    </tr>\n    <tr>\n      <th>...</th>\n      <td>...</td>\n      <td>...</td>\n      <td>...</td>\n      <td>...</td>\n      <td>...</td>\n      <td>...</td>\n      <td>...</td>\n      <td>...</td>\n      <td>...</td>\n      <td>...</td>\n    </tr>\n    <tr>\n      <th>12854</th>\n      <td>Шина АД-31т гт15176 10х100х4000 (кг)</td>\n      <td>NaN</td>\n      <td>15.12.2020</td>\n      <td>NaN</td>\n      <td>NaN</td>\n      <td>24.12.2020 12:45:01</td>\n      <td>24.12.2020 12:45:02</td>\n      <td>Меньшиков И.В.</td>\n      <td>Аксенова В.</td>\n      <td>24.12.2020 0:00:00</td>\n    </tr>\n    <tr>\n      <th>12855</th>\n      <td>Шина АД-31т гт15176 10х120 (кг)</td>\n      <td>NaN</td>\n      <td>15.12.2020</td>\n      <td>NaN</td>\n      <td>NaN</td>\n      <td>24.12.2020 12:45:01</td>\n      <td>24.12.2020 12:45:02</td>\n      <td>Меньшиков И.В.</td>\n      <td>NaN</td>\n      <td>NaN</td>\n    </tr>\n    <tr>\n      <th>12856</th>\n      <td>Шина АД-31т гт15176 8х60х4000</td>\n      <td>NaN</td>\n      <td>15.12.2020</td>\n      <td>NaN</td>\n      <td>NaN</td>\n      <td>24.12.2020 12:45:01</td>\n      <td>24.12.2020 12:45:02</td>\n      <td>Меньшиков И.В.</td>\n      <td>Аксенова В.</td>\n      <td>24.12.2020 0:00:00</td>\n    </tr>\n    <tr>\n      <th>12857</th>\n      <td>Шпилька FH M6-20 запрессовываемая резьбовая</td>\n      <td>NaN</td>\n      <td>15.12.2020</td>\n      <td>NaN</td>\n      <td>NaN</td>\n      <td>NaN</td>\n      <td>NaN</td>\n      <td>NaN</td>\n      <td>NaN</td>\n      <td>NaN</td>\n    </tr>\n    <tr>\n      <th>12858</th>\n      <td>Итого</td>\n      <td>NaN</td>\n      <td>NaN</td>\n      <td>NaN</td>\n      <td>NaN</td>\n      <td>NaN</td>\n      <td>NaN</td>\n      <td>NaN</td>\n      <td>NaN</td>\n      <td>NaN</td>\n    </tr>\n  </tbody>\n</table>\n<p>12859 rows × 10 columns</p>\n</div>"
     },
     "execution_count": 4,
     "metadata": {},
     "output_type": "execute_result"
    }
   ],
   "source": [
    "df = clean_1c_exel()\n",
    "df"
   ],
   "metadata": {
    "collapsed": false,
    "pycharm": {
     "name": "#%%\n"
    }
   }
  },
  {
   "cell_type": "code",
   "execution_count": null,
   "outputs": [],
   "source": [
    "df\n"
   ],
   "metadata": {
    "collapsed": false,
    "pycharm": {
     "name": "#%%\n"
    }
   }
  }
 ],
 "metadata": {
  "kernelspec": {
   "display_name": "Python 3",
   "language": "python",
   "name": "python3"
  },
  "language_info": {
   "codemirror_mode": {
    "name": "ipython",
    "version": 2
   },
   "file_extension": ".py",
   "mimetype": "text/x-python",
   "name": "python",
   "nbconvert_exporter": "python",
   "pygments_lexer": "ipython2",
   "version": "2.7.6"
  }
 },
 "nbformat": 4,
 "nbformat_minor": 0
}