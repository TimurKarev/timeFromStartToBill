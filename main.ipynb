{
 "cells": [
  {
   "cell_type": "code",
   "execution_count": 89,
   "metadata": {
    "collapsed": true
   },
   "outputs": [
    {
     "data": {
      "text/plain": "'C:\\\\Users\\\\User\\\\Documents\\\\Project\\\\analitic\\\\timeFromStartToBill'"
     },
     "execution_count": 89,
     "metadata": {},
     "output_type": "execute_result"
    }
   ],
   "source": [
    "from datetime import datetime\n",
    "import pandas as pd\n",
    "import os\n",
    "\n",
    "dir_path = os.getcwd()\n",
    "dir_path"
   ]
  },
  {
   "cell_type": "code",
   "execution_count": 85,
   "outputs": [
    {
     "name": "stdout",
     "output_type": "stream",
     "text": [
      "The autoreload extension is already loaded. To reload it, use:\n",
      "  %reload_ext autoreload\n"
     ]
    }
   ],
   "source": [
    "%load_ext autoreload\n",
    "from utils.clean import clean_multiple_rows\n",
    "from utils.time import get_working_days_from_two_datetime\n",
    "%autoreload 2"
   ],
   "metadata": {
    "collapsed": false,
    "pycharm": {
     "name": "#%%\n"
    }
   }
  },
  {
   "cell_type": "code",
   "execution_count": 3,
   "outputs": [],
   "source": [
    "df = pd.read_excel(\n",
    "    dir_path + '\\data\\C_data.xls',\n",
    "    header=None\n",
    ")"
   ],
   "metadata": {
    "collapsed": false,
    "pycharm": {
     "name": "#%%\n"
    }
   }
  },
  {
   "cell_type": "code",
   "execution_count": 4,
   "outputs": [],
   "source": [
    "d = df.loc[11:, ]\n",
    "ar = d[2].unique()"
   ],
   "metadata": {
    "collapsed": false,
    "pycharm": {
     "name": "#%%\n"
    }
   }
  },
  {
   "cell_type": "code",
   "execution_count": 5,
   "outputs": [
    {
     "data": {
      "text/plain": "'Заказ на производство ЭТИ00001320 от 29.06.2020 11:11:10'"
     },
     "execution_count": 5,
     "metadata": {},
     "output_type": "execute_result"
    }
   ],
   "source": [
    "cell = df.iloc[10][0]\n",
    "cell"
   ],
   "metadata": {
    "collapsed": false,
    "pycharm": {
     "name": "#%%\n"
    }
   }
  },
  {
   "cell_type": "code",
   "execution_count": 6,
   "outputs": [
    {
     "data": {
      "text/plain": "True"
     },
     "execution_count": 6,
     "metadata": {},
     "output_type": "execute_result"
    }
   ],
   "source": [
    "'Заказ на производство ЭТИ0000' in cell"
   ],
   "metadata": {
    "collapsed": false,
    "pycharm": {
     "name": "#%%\n"
    }
   }
  },
  {
   "cell_type": "code",
   "source": [
    "mask = df[0].str.find('Заказ на производство ЭТИ0000') == 0\n",
    "header_indexes = mask[mask].index.tolist()\n",
    "header_indexes"
   ],
   "metadata": {
    "collapsed": false,
    "pycharm": {
     "name": "#%%\n"
    }
   },
   "execution_count": 7,
   "outputs": [
    {
     "data": {
      "text/plain": "[10, 609]"
     },
     "execution_count": 7,
     "metadata": {},
     "output_type": "execute_result"
    }
   ]
  },
  {
   "cell_type": "code",
   "execution_count": 66,
   "outputs": [
    {
     "data": {
      "text/plain": "                                           part_name initial_date  \\\n32                          DIN-рейка OMEGA 3F 02140   29.06.2020   \n33   DIN-рейка перфорированная OMEGA 3AF 35x15 02150   29.06.2020   \n34                DIN-рейка, 2 м 10113570 (107535 P)   29.06.2020   \n35                            Автомат S202-С 10А C10   29.06.2020   \n36                              Автомат S202-С 6А C6   29.06.2020   \n..                                               ...          ...   \n604                             Ящик для инструмента   29.06.2020   \n605                        Ящик для песка БКТП-05.09   29.06.2020   \n606                     Ящик для песка БКТП-05.09-02   29.06.2020   \n607              Ящик под документы БКТП-05.00.00.20   29.06.2020   \n608                       Ящик под щебень БКТП-05.20   29.06.2020   \n\n                                         creation_date  \\\n32                                 03.09.2020 12:05:39   \n33                                 03.09.2020 12:05:39   \n34   21.07.2020 14:09:26\\n21.07.2020 14:09:39\\n21.0...   \n35            26.08.2020 16:22:01\\n03.09.2020 12:05:39   \n36            26.08.2020 16:22:01\\n03.09.2020 12:05:39   \n..                                                 ...   \n604                                29.07.2020 16:22:49   \n605                                23.07.2020 14:58:47   \n606                                23.07.2020 14:58:47   \n607                                 11.08.2020 9:41:21   \n608                                23.07.2020 14:58:47   \n\n                                         approved_date  \\\n32                                  04.09.2020 9:34:24   \n33                                  04.09.2020 9:34:24   \n34   21.07.2020 14:09:28\\n21.07.2020 14:09:40\\n21.0...   \n35             26.08.2020 17:42:39\\n04.09.2020 9:34:24   \n36             26.08.2020 17:42:39\\n04.09.2020 9:34:24   \n..                                                 ...   \n604                                29.07.2020 16:22:50   \n605                                24.07.2020 14:24:47   \n606                                24.07.2020 14:24:47   \n607                                11.08.2020 12:26:50   \n608                                24.07.2020 14:24:47   \n\n                                           master_name  \\\n32                                          Дубов К.А.   \n33                                          Дубов К.А.   \n34   Белокур Антон Алексеевич\\nБелокур Антон Алексе...   \n35                              Дубов К.А.\\nДубов К.А.   \n36                              Дубов К.А.\\nДубов К.А.   \n..                                                 ...   \n604                                     Меньшиков И.В.   \n605                                     Данисевич С.С.   \n606                                     Данисевич С.С.   \n607                                     Данисевич С.С.   \n608                                     Данисевич С.С.   \n\n                                          manager_name  \\\n32                                         Аксенова В.   \n33                                         Аксенова В.   \n34   Аксенова В.\\nАксенова В.\\nАксенова В.\\nАксенов...   \n35                            Аксенова В.\\nАксенова В.   \n36                            Аксенова В.\\nАксенова В.   \n..                                                 ...   \n604                                        Беллер Н.С.   \n605                                        Беллер Н.С.   \n606                                        Беллер Н.С.   \n607                                        Беллер Н.С.   \n608                                        Беллер Н.С.   \n\n                                             bill_date  \n32                                  08.09.2020 0:00:00  \n33                                  08.09.2020 0:00:00  \n34   30.07.2020 0:00:00\\n30.07.2020 0:00:00\\n21.07....  \n35              07.09.2020 0:00:00\\n31.08.2020 0:00:00  \n36              22.09.2020 0:00:00\\n31.08.2020 0:00:00  \n..                                                 ...  \n604                                 30.07.2020 0:00:00  \n605                                 19.08.2020 0:00:00  \n606                                 19.08.2020 0:00:00  \n607                                 12.08.2020 0:00:00  \n608                                 19.08.2020 0:00:00  \n\n[398 rows x 7 columns]",
      "text/html": "<div>\n<style scoped>\n    .dataframe tbody tr th:only-of-type {\n        vertical-align: middle;\n    }\n\n    .dataframe tbody tr th {\n        vertical-align: top;\n    }\n\n    .dataframe thead th {\n        text-align: right;\n    }\n</style>\n<table border=\"1\" class=\"dataframe\">\n  <thead>\n    <tr style=\"text-align: right;\">\n      <th></th>\n      <th>part_name</th>\n      <th>initial_date</th>\n      <th>creation_date</th>\n      <th>approved_date</th>\n      <th>master_name</th>\n      <th>manager_name</th>\n      <th>bill_date</th>\n    </tr>\n  </thead>\n  <tbody>\n    <tr>\n      <th>32</th>\n      <td>DIN-рейка OMEGA 3F 02140</td>\n      <td>29.06.2020</td>\n      <td>03.09.2020 12:05:39</td>\n      <td>04.09.2020 9:34:24</td>\n      <td>Дубов К.А.</td>\n      <td>Аксенова В.</td>\n      <td>08.09.2020 0:00:00</td>\n    </tr>\n    <tr>\n      <th>33</th>\n      <td>DIN-рейка перфорированная OMEGA 3AF 35x15 02150</td>\n      <td>29.06.2020</td>\n      <td>03.09.2020 12:05:39</td>\n      <td>04.09.2020 9:34:24</td>\n      <td>Дубов К.А.</td>\n      <td>Аксенова В.</td>\n      <td>08.09.2020 0:00:00</td>\n    </tr>\n    <tr>\n      <th>34</th>\n      <td>DIN-рейка, 2 м 10113570 (107535 P)</td>\n      <td>29.06.2020</td>\n      <td>21.07.2020 14:09:26\\n21.07.2020 14:09:39\\n21.0...</td>\n      <td>21.07.2020 14:09:28\\n21.07.2020 14:09:40\\n21.0...</td>\n      <td>Белокур Антон Алексеевич\\nБелокур Антон Алексе...</td>\n      <td>Аксенова В.\\nАксенова В.\\nАксенова В.\\nАксенов...</td>\n      <td>30.07.2020 0:00:00\\n30.07.2020 0:00:00\\n21.07....</td>\n    </tr>\n    <tr>\n      <th>35</th>\n      <td>Автомат S202-С 10А C10</td>\n      <td>29.06.2020</td>\n      <td>26.08.2020 16:22:01\\n03.09.2020 12:05:39</td>\n      <td>26.08.2020 17:42:39\\n04.09.2020 9:34:24</td>\n      <td>Дубов К.А.\\nДубов К.А.</td>\n      <td>Аксенова В.\\nАксенова В.</td>\n      <td>07.09.2020 0:00:00\\n31.08.2020 0:00:00</td>\n    </tr>\n    <tr>\n      <th>36</th>\n      <td>Автомат S202-С 6А C6</td>\n      <td>29.06.2020</td>\n      <td>26.08.2020 16:22:01\\n03.09.2020 12:05:39</td>\n      <td>26.08.2020 17:42:39\\n04.09.2020 9:34:24</td>\n      <td>Дубов К.А.\\nДубов К.А.</td>\n      <td>Аксенова В.\\nАксенова В.</td>\n      <td>22.09.2020 0:00:00\\n31.08.2020 0:00:00</td>\n    </tr>\n    <tr>\n      <th>...</th>\n      <td>...</td>\n      <td>...</td>\n      <td>...</td>\n      <td>...</td>\n      <td>...</td>\n      <td>...</td>\n      <td>...</td>\n    </tr>\n    <tr>\n      <th>604</th>\n      <td>Ящик для инструмента</td>\n      <td>29.06.2020</td>\n      <td>29.07.2020 16:22:49</td>\n      <td>29.07.2020 16:22:50</td>\n      <td>Меньшиков И.В.</td>\n      <td>Беллер Н.С.</td>\n      <td>30.07.2020 0:00:00</td>\n    </tr>\n    <tr>\n      <th>605</th>\n      <td>Ящик для песка БКТП-05.09</td>\n      <td>29.06.2020</td>\n      <td>23.07.2020 14:58:47</td>\n      <td>24.07.2020 14:24:47</td>\n      <td>Данисевич С.С.</td>\n      <td>Беллер Н.С.</td>\n      <td>19.08.2020 0:00:00</td>\n    </tr>\n    <tr>\n      <th>606</th>\n      <td>Ящик для песка БКТП-05.09-02</td>\n      <td>29.06.2020</td>\n      <td>23.07.2020 14:58:47</td>\n      <td>24.07.2020 14:24:47</td>\n      <td>Данисевич С.С.</td>\n      <td>Беллер Н.С.</td>\n      <td>19.08.2020 0:00:00</td>\n    </tr>\n    <tr>\n      <th>607</th>\n      <td>Ящик под документы БКТП-05.00.00.20</td>\n      <td>29.06.2020</td>\n      <td>11.08.2020 9:41:21</td>\n      <td>11.08.2020 12:26:50</td>\n      <td>Данисевич С.С.</td>\n      <td>Беллер Н.С.</td>\n      <td>12.08.2020 0:00:00</td>\n    </tr>\n    <tr>\n      <th>608</th>\n      <td>Ящик под щебень БКТП-05.20</td>\n      <td>29.06.2020</td>\n      <td>23.07.2020 14:58:47</td>\n      <td>24.07.2020 14:24:47</td>\n      <td>Данисевич С.С.</td>\n      <td>Беллер Н.С.</td>\n      <td>19.08.2020 0:00:00</td>\n    </tr>\n  </tbody>\n</table>\n<p>398 rows × 7 columns</p>\n</div>"
     },
     "execution_count": 66,
     "metadata": {},
     "output_type": "execute_result"
    }
   ],
   "source": [
    "order_df = df.iloc[header_indexes[0]:header_indexes[1]]\n",
    "order_df = order_df.drop(columns=[1,3,4])\n",
    "order_df = order_df.fillna(0)\n",
    "order_df = order_df[\n",
    "    (order_df[5] != 0) & \\\n",
    "    (order_df[6] != 0) & \\\n",
    "    (order_df[7] != 0) & \\\n",
    "    (order_df[8] != 0) & \\\n",
    "    (order_df[9] != 0)\n",
    "]\n",
    "mapper = {\n",
    "    0: 'part_name',\n",
    "    2: 'initial_date',\n",
    "    5: 'creation_date',\n",
    "    6: 'approved_date',\n",
    "    7: 'master_name',\n",
    "    8: 'manager_name',\n",
    "    9: 'bill_date',\n",
    "}\n",
    "order_df = order_df.rename(columns=mapper)\n",
    "order_df"
   ],
   "metadata": {
    "collapsed": false,
    "pycharm": {
     "name": "#%%\n"
    }
   }
  },
  {
   "cell_type": "code",
   "execution_count": 83,
   "outputs": [
    {
     "data": {
      "text/plain": "      part_name initial_time creation_time approved_time            bill_time  \\\n0     DIN-рейка   2020-06-29    2020-09-03    2020-09-04  2020-09-08 00:00:00   \n1     DIN-рейка   2020-06-29    2020-09-03    2020-09-04  2020-09-08 00:00:00   \n2    DIN-рейка,   2020-06-29    2020-07-21    2020-07-21  2020-07-30 00:00:00   \n3    DIN-рейка,   2020-06-29    2020-07-21    2020-07-21  2020-07-30 00:00:00   \n4    DIN-рейка,   2020-06-29    2020-07-21    2020-07-21  2020-07-21 00:00:00   \n..          ...          ...           ...           ...                  ...   \n476        Ящик   2020-06-29    2020-07-29    2020-07-29  2020-07-30 00:00:00   \n477        Ящик   2020-06-29    2020-07-23    2020-07-24  2020-08-19 00:00:00   \n478        Ящик   2020-06-29    2020-07-23    2020-07-24  2020-08-19 00:00:00   \n479        Ящик   2020-06-29    2020-08-11    2020-08-11  2020-08-12 00:00:00   \n480        Ящик   2020-06-29    2020-07-23    2020-07-24  2020-08-19 00:00:00   \n\n                  master_name manager_name  \n0                  Дубов К.А.  Аксенова В.  \n1                  Дубов К.А.  Аксенова В.  \n2    Белокур Антон Алексеевич  Аксенова В.  \n3    Белокур Антон Алексеевич  Аксенова В.  \n4    Белокур Антон Алексеевич  Аксенова В.  \n..                        ...          ...  \n476            Меньшиков И.В.  Беллер Н.С.  \n477            Данисевич С.С.  Беллер Н.С.  \n478            Данисевич С.С.  Беллер Н.С.  \n479            Данисевич С.С.  Беллер Н.С.  \n480            Данисевич С.С.  Беллер Н.С.  \n\n[481 rows x 7 columns]",
      "text/html": "<div>\n<style scoped>\n    .dataframe tbody tr th:only-of-type {\n        vertical-align: middle;\n    }\n\n    .dataframe tbody tr th {\n        vertical-align: top;\n    }\n\n    .dataframe thead th {\n        text-align: right;\n    }\n</style>\n<table border=\"1\" class=\"dataframe\">\n  <thead>\n    <tr style=\"text-align: right;\">\n      <th></th>\n      <th>part_name</th>\n      <th>initial_time</th>\n      <th>creation_time</th>\n      <th>approved_time</th>\n      <th>bill_time</th>\n      <th>master_name</th>\n      <th>manager_name</th>\n    </tr>\n  </thead>\n  <tbody>\n    <tr>\n      <th>0</th>\n      <td>DIN-рейка</td>\n      <td>2020-06-29</td>\n      <td>2020-09-03</td>\n      <td>2020-09-04</td>\n      <td>2020-09-08 00:00:00</td>\n      <td>Дубов К.А.</td>\n      <td>Аксенова В.</td>\n    </tr>\n    <tr>\n      <th>1</th>\n      <td>DIN-рейка</td>\n      <td>2020-06-29</td>\n      <td>2020-09-03</td>\n      <td>2020-09-04</td>\n      <td>2020-09-08 00:00:00</td>\n      <td>Дубов К.А.</td>\n      <td>Аксенова В.</td>\n    </tr>\n    <tr>\n      <th>2</th>\n      <td>DIN-рейка,</td>\n      <td>2020-06-29</td>\n      <td>2020-07-21</td>\n      <td>2020-07-21</td>\n      <td>2020-07-30 00:00:00</td>\n      <td>Белокур Антон Алексеевич</td>\n      <td>Аксенова В.</td>\n    </tr>\n    <tr>\n      <th>3</th>\n      <td>DIN-рейка,</td>\n      <td>2020-06-29</td>\n      <td>2020-07-21</td>\n      <td>2020-07-21</td>\n      <td>2020-07-30 00:00:00</td>\n      <td>Белокур Антон Алексеевич</td>\n      <td>Аксенова В.</td>\n    </tr>\n    <tr>\n      <th>4</th>\n      <td>DIN-рейка,</td>\n      <td>2020-06-29</td>\n      <td>2020-07-21</td>\n      <td>2020-07-21</td>\n      <td>2020-07-21 00:00:00</td>\n      <td>Белокур Антон Алексеевич</td>\n      <td>Аксенова В.</td>\n    </tr>\n    <tr>\n      <th>...</th>\n      <td>...</td>\n      <td>...</td>\n      <td>...</td>\n      <td>...</td>\n      <td>...</td>\n      <td>...</td>\n      <td>...</td>\n    </tr>\n    <tr>\n      <th>476</th>\n      <td>Ящик</td>\n      <td>2020-06-29</td>\n      <td>2020-07-29</td>\n      <td>2020-07-29</td>\n      <td>2020-07-30 00:00:00</td>\n      <td>Меньшиков И.В.</td>\n      <td>Беллер Н.С.</td>\n    </tr>\n    <tr>\n      <th>477</th>\n      <td>Ящик</td>\n      <td>2020-06-29</td>\n      <td>2020-07-23</td>\n      <td>2020-07-24</td>\n      <td>2020-08-19 00:00:00</td>\n      <td>Данисевич С.С.</td>\n      <td>Беллер Н.С.</td>\n    </tr>\n    <tr>\n      <th>478</th>\n      <td>Ящик</td>\n      <td>2020-06-29</td>\n      <td>2020-07-23</td>\n      <td>2020-07-24</td>\n      <td>2020-08-19 00:00:00</td>\n      <td>Данисевич С.С.</td>\n      <td>Беллер Н.С.</td>\n    </tr>\n    <tr>\n      <th>479</th>\n      <td>Ящик</td>\n      <td>2020-06-29</td>\n      <td>2020-08-11</td>\n      <td>2020-08-11</td>\n      <td>2020-08-12 00:00:00</td>\n      <td>Данисевич С.С.</td>\n      <td>Беллер Н.С.</td>\n    </tr>\n    <tr>\n      <th>480</th>\n      <td>Ящик</td>\n      <td>2020-06-29</td>\n      <td>2020-07-23</td>\n      <td>2020-07-24</td>\n      <td>2020-08-19 00:00:00</td>\n      <td>Данисевич С.С.</td>\n      <td>Беллер Н.С.</td>\n    </tr>\n  </tbody>\n</table>\n<p>481 rows × 7 columns</p>\n</div>"
     },
     "execution_count": 83,
     "metadata": {},
     "output_type": "execute_result"
    }
   ],
   "source": [
    "%autoreload 2\n",
    "clean_df = pd.DataFrame()\n",
    "# clean_df.append(\n",
    "#     order_df.apply( lambda row: clean_mr(row),axis=1),\n",
    "#     ignore_index=True\n",
    "#     )\n",
    "l=order_df.apply(clean_multiple_rows, axis=1)\n",
    "for i in l:\n",
    "    clean_df = clean_df.append(i, ignore_index=True)\n",
    "clean_df"
   ],
   "metadata": {
    "collapsed": false,
    "pycharm": {
     "name": "#%%\n"
    }
   }
  },
  {
   "cell_type": "code",
   "execution_count": 80,
   "outputs": [
    {
     "data": {
      "text/plain": "Timestamp('2020-07-21 00:00:00')"
     },
     "execution_count": 80,
     "metadata": {},
     "output_type": "execute_result"
    }
   ],
   "source": [
    "clean_df.creation_time[3]"
   ],
   "metadata": {
    "collapsed": false,
    "pycharm": {
     "name": "#%%\n"
    }
   }
  },
  {
   "cell_type": "code",
   "execution_count": 114,
   "outputs": [
    {
     "data": {
      "text/plain": "-1"
     },
     "execution_count": 114,
     "metadata": {},
     "output_type": "execute_result"
    }
   ],
   "source": [
    "get_working_days_from_two_datetime(\n",
    "    datetime(2020, 3, 2),\n",
    "    datetime(2020, 3, 1),\n",
    ")"
   ],
   "metadata": {
    "collapsed": false,
    "pycharm": {
     "name": "#%%\n"
    }
   }
  },
  {
   "cell_type": "code",
   "execution_count": 112,
   "outputs": [
    {
     "data": {
      "text/plain": "True"
     },
     "execution_count": 112,
     "metadata": {},
     "output_type": "execute_result"
    }
   ],
   "source": [
    "from dateutil.relativedelta import relativedelta\n",
    "datetime(2020, 3, 1) < datetime(2020, 3, 2)"
   ],
   "metadata": {
    "collapsed": false,
    "pycharm": {
     "name": "#%%\n"
    }
   }
  },
  {
   "cell_type": "code",
   "execution_count": null,
   "outputs": [],
   "source": [],
   "metadata": {
    "collapsed": false,
    "pycharm": {
     "name": "#%%\n"
    }
   }
  }
 ],
 "metadata": {
  "kernelspec": {
   "display_name": "Python 3",
   "language": "python",
   "name": "python3"
  },
  "language_info": {
   "codemirror_mode": {
    "name": "ipython",
    "version": 2
   },
   "file_extension": ".py",
   "mimetype": "text/x-python",
   "name": "python",
   "nbconvert_exporter": "python",
   "pygments_lexer": "ipython2",
   "version": "2.7.6"
  }
 },
 "nbformat": 4,
 "nbformat_minor": 0
}