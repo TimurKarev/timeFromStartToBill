{
 "cells": [
  {
   "cell_type": "code",
   "execution_count": 1,
   "metadata": {
    "collapsed": true
   },
   "outputs": [
    {
     "data": {
      "text/plain": "'C:\\\\Users\\\\User\\\\Documents\\\\Project\\\\analitic\\\\timeFromStartToBill'"
     },
     "execution_count": 1,
     "metadata": {},
     "output_type": "execute_result"
    }
   ],
   "source": [
    "from datetime import datetime\n",
    "import pandas as pd\n",
    "import os\n",
    "\n",
    "dir_path = os.getcwd()\n",
    "dir_path"
   ]
  },
  {
   "cell_type": "code",
   "execution_count": 3,
   "outputs": [
    {
     "name": "stdout",
     "output_type": "stream",
     "text": [
      "The autoreload extension is already loaded. To reload it, use:\n",
      "  %reload_ext autoreload\n"
     ]
    }
   ],
   "source": [
    "%load_ext autoreload\n",
    "from utils.clean import clean_multiple_rows\n",
    "from utils.time import get_working_days_from_two_datetime\n",
    "%autoreload 2"
   ],
   "metadata": {
    "collapsed": false,
    "pycharm": {
     "name": "#%%\n"
    }
   }
  },
  {
   "cell_type": "code",
   "execution_count": 4,
   "outputs": [],
   "source": [
    "df = pd.read_excel(\n",
    "    dir_path + '\\data\\C_data.xls',\n",
    "    header=None\n",
    ")"
   ],
   "metadata": {
    "collapsed": false,
    "pycharm": {
     "name": "#%%\n"
    }
   }
  },
  {
   "cell_type": "code",
   "execution_count": 8,
   "outputs": [
    {
     "data": {
      "text/plain": "                                                    0    1           2   3  \\\n9                                        Номенклатура  NaN         NaN NaN   \n10  Заказ на производство ЭТИ00001334 от 26.08.202...  NaN  26.08.2020 NaN   \n11             1334 Вторичная отделка верхнего модуля  NaN  26.08.2020 NaN   \n12                  1334 Комплект кабельных перемычек  NaN  26.08.2020 NaN   \n\n     4                   5                         6              7  \\\n9  NaN  Дата подачи заявки  Дата согласования заявки  Ответственный   \n10 NaN                 NaN                       NaN            NaN   \n11 NaN                 NaN                       NaN            NaN   \n12 NaN                 NaN                       NaN            NaN   \n\n                8           9  \n9   Ответственный  Дата счета  \n10            NaN         NaN  \n11            NaN         NaN  \n12            NaN         NaN  ",
      "text/html": "<div>\n<style scoped>\n    .dataframe tbody tr th:only-of-type {\n        vertical-align: middle;\n    }\n\n    .dataframe tbody tr th {\n        vertical-align: top;\n    }\n\n    .dataframe thead th {\n        text-align: right;\n    }\n</style>\n<table border=\"1\" class=\"dataframe\">\n  <thead>\n    <tr style=\"text-align: right;\">\n      <th></th>\n      <th>0</th>\n      <th>1</th>\n      <th>2</th>\n      <th>3</th>\n      <th>4</th>\n      <th>5</th>\n      <th>6</th>\n      <th>7</th>\n      <th>8</th>\n      <th>9</th>\n    </tr>\n  </thead>\n  <tbody>\n    <tr>\n      <th>9</th>\n      <td>Номенклатура</td>\n      <td>NaN</td>\n      <td>NaN</td>\n      <td>NaN</td>\n      <td>NaN</td>\n      <td>Дата подачи заявки</td>\n      <td>Дата согласования заявки</td>\n      <td>Ответственный</td>\n      <td>Ответственный</td>\n      <td>Дата счета</td>\n    </tr>\n    <tr>\n      <th>10</th>\n      <td>Заказ на производство ЭТИ00001334 от 26.08.202...</td>\n      <td>NaN</td>\n      <td>26.08.2020</td>\n      <td>NaN</td>\n      <td>NaN</td>\n      <td>NaN</td>\n      <td>NaN</td>\n      <td>NaN</td>\n      <td>NaN</td>\n      <td>NaN</td>\n    </tr>\n    <tr>\n      <th>11</th>\n      <td>1334 Вторичная отделка верхнего модуля</td>\n      <td>NaN</td>\n      <td>26.08.2020</td>\n      <td>NaN</td>\n      <td>NaN</td>\n      <td>NaN</td>\n      <td>NaN</td>\n      <td>NaN</td>\n      <td>NaN</td>\n      <td>NaN</td>\n    </tr>\n    <tr>\n      <th>12</th>\n      <td>1334 Комплект кабельных перемычек</td>\n      <td>NaN</td>\n      <td>26.08.2020</td>\n      <td>NaN</td>\n      <td>NaN</td>\n      <td>NaN</td>\n      <td>NaN</td>\n      <td>NaN</td>\n      <td>NaN</td>\n      <td>NaN</td>\n    </tr>\n  </tbody>\n</table>\n</div>"
     },
     "execution_count": 8,
     "metadata": {},
     "output_type": "execute_result"
    }
   ],
   "source": [
    "df.iloc[9:13]"
   ],
   "metadata": {
    "collapsed": false,
    "pycharm": {
     "name": "#%%\n"
    }
   }
  },
  {
   "cell_type": "code",
   "execution_count": 132,
   "outputs": [
    {
     "data": {
      "text/plain": "True"
     },
     "execution_count": 132,
     "metadata": {},
     "output_type": "execute_result"
    }
   ],
   "source": [
    "'Заказ на производство ЭТИ0000' in cell"
   ],
   "metadata": {
    "collapsed": false,
    "pycharm": {
     "name": "#%%\n"
    }
   }
  },
  {
   "cell_type": "code",
   "source": [
    "mask = df[0].str.find('Заказ на производство ЭТИ0000') == 0\n",
    "header_indexes = mask[mask].index.tolist()\n",
    "header_indexes"
   ],
   "metadata": {
    "collapsed": false,
    "pycharm": {
     "name": "#%%\n"
    }
   },
   "execution_count": 133,
   "outputs": [
    {
     "data": {
      "text/plain": "[10, 609]"
     },
     "execution_count": 133,
     "metadata": {},
     "output_type": "execute_result"
    }
   ]
  },
  {
   "cell_type": "code",
   "execution_count": 134,
   "outputs": [
    {
     "data": {
      "text/plain": "                                           part_name initial_date  \\\n32                          DIN-рейка OMEGA 3F 02140   29.06.2020   \n33   DIN-рейка перфорированная OMEGA 3AF 35x15 02150   29.06.2020   \n34                DIN-рейка, 2 м 10113570 (107535 P)   29.06.2020   \n35                            Автомат S202-С 10А C10   29.06.2020   \n36                              Автомат S202-С 6А C6   29.06.2020   \n..                                               ...          ...   \n604                             Ящик для инструмента   29.06.2020   \n605                        Ящик для песка БКТП-05.09   29.06.2020   \n606                     Ящик для песка БКТП-05.09-02   29.06.2020   \n607              Ящик под документы БКТП-05.00.00.20   29.06.2020   \n608                       Ящик под щебень БКТП-05.20   29.06.2020   \n\n                                         creation_date  \\\n32                                 03.09.2020 12:05:39   \n33                                 03.09.2020 12:05:39   \n34   21.07.2020 14:09:26\\n21.07.2020 14:09:39\\n21.0...   \n35            26.08.2020 16:22:01\\n03.09.2020 12:05:39   \n36            26.08.2020 16:22:01\\n03.09.2020 12:05:39   \n..                                                 ...   \n604                                29.07.2020 16:22:49   \n605                                23.07.2020 14:58:47   \n606                                23.07.2020 14:58:47   \n607                                 11.08.2020 9:41:21   \n608                                23.07.2020 14:58:47   \n\n                                         approved_date  \\\n32                                  04.09.2020 9:34:24   \n33                                  04.09.2020 9:34:24   \n34   21.07.2020 14:09:28\\n21.07.2020 14:09:40\\n21.0...   \n35             26.08.2020 17:42:39\\n04.09.2020 9:34:24   \n36             26.08.2020 17:42:39\\n04.09.2020 9:34:24   \n..                                                 ...   \n604                                29.07.2020 16:22:50   \n605                                24.07.2020 14:24:47   \n606                                24.07.2020 14:24:47   \n607                                11.08.2020 12:26:50   \n608                                24.07.2020 14:24:47   \n\n                                           master_name  \\\n32                                          Дубов К.А.   \n33                                          Дубов К.А.   \n34   Белокур Антон Алексеевич\\nБелокур Антон Алексе...   \n35                              Дубов К.А.\\nДубов К.А.   \n36                              Дубов К.А.\\nДубов К.А.   \n..                                                 ...   \n604                                     Меньшиков И.В.   \n605                                     Данисевич С.С.   \n606                                     Данисевич С.С.   \n607                                     Данисевич С.С.   \n608                                     Данисевич С.С.   \n\n                                          manager_name  \\\n32                                         Аксенова В.   \n33                                         Аксенова В.   \n34   Аксенова В.\\nАксенова В.\\nАксенова В.\\nАксенов...   \n35                            Аксенова В.\\nАксенова В.   \n36                            Аксенова В.\\nАксенова В.   \n..                                                 ...   \n604                                        Беллер Н.С.   \n605                                        Беллер Н.С.   \n606                                        Беллер Н.С.   \n607                                        Беллер Н.С.   \n608                                        Беллер Н.С.   \n\n                                             bill_date  \n32                                  08.09.2020 0:00:00  \n33                                  08.09.2020 0:00:00  \n34   30.07.2020 0:00:00\\n30.07.2020 0:00:00\\n21.07....  \n35              07.09.2020 0:00:00\\n31.08.2020 0:00:00  \n36              22.09.2020 0:00:00\\n31.08.2020 0:00:00  \n..                                                 ...  \n604                                 30.07.2020 0:00:00  \n605                                 19.08.2020 0:00:00  \n606                                 19.08.2020 0:00:00  \n607                                 12.08.2020 0:00:00  \n608                                 19.08.2020 0:00:00  \n\n[398 rows x 7 columns]",
      "text/html": "<div>\n<style scoped>\n    .dataframe tbody tr th:only-of-type {\n        vertical-align: middle;\n    }\n\n    .dataframe tbody tr th {\n        vertical-align: top;\n    }\n\n    .dataframe thead th {\n        text-align: right;\n    }\n</style>\n<table border=\"1\" class=\"dataframe\">\n  <thead>\n    <tr style=\"text-align: right;\">\n      <th></th>\n      <th>part_name</th>\n      <th>initial_date</th>\n      <th>creation_date</th>\n      <th>approved_date</th>\n      <th>master_name</th>\n      <th>manager_name</th>\n      <th>bill_date</th>\n    </tr>\n  </thead>\n  <tbody>\n    <tr>\n      <th>32</th>\n      <td>DIN-рейка OMEGA 3F 02140</td>\n      <td>29.06.2020</td>\n      <td>03.09.2020 12:05:39</td>\n      <td>04.09.2020 9:34:24</td>\n      <td>Дубов К.А.</td>\n      <td>Аксенова В.</td>\n      <td>08.09.2020 0:00:00</td>\n    </tr>\n    <tr>\n      <th>33</th>\n      <td>DIN-рейка перфорированная OMEGA 3AF 35x15 02150</td>\n      <td>29.06.2020</td>\n      <td>03.09.2020 12:05:39</td>\n      <td>04.09.2020 9:34:24</td>\n      <td>Дубов К.А.</td>\n      <td>Аксенова В.</td>\n      <td>08.09.2020 0:00:00</td>\n    </tr>\n    <tr>\n      <th>34</th>\n      <td>DIN-рейка, 2 м 10113570 (107535 P)</td>\n      <td>29.06.2020</td>\n      <td>21.07.2020 14:09:26\\n21.07.2020 14:09:39\\n21.0...</td>\n      <td>21.07.2020 14:09:28\\n21.07.2020 14:09:40\\n21.0...</td>\n      <td>Белокур Антон Алексеевич\\nБелокур Антон Алексе...</td>\n      <td>Аксенова В.\\nАксенова В.\\nАксенова В.\\nАксенов...</td>\n      <td>30.07.2020 0:00:00\\n30.07.2020 0:00:00\\n21.07....</td>\n    </tr>\n    <tr>\n      <th>35</th>\n      <td>Автомат S202-С 10А C10</td>\n      <td>29.06.2020</td>\n      <td>26.08.2020 16:22:01\\n03.09.2020 12:05:39</td>\n      <td>26.08.2020 17:42:39\\n04.09.2020 9:34:24</td>\n      <td>Дубов К.А.\\nДубов К.А.</td>\n      <td>Аксенова В.\\nАксенова В.</td>\n      <td>07.09.2020 0:00:00\\n31.08.2020 0:00:00</td>\n    </tr>\n    <tr>\n      <th>36</th>\n      <td>Автомат S202-С 6А C6</td>\n      <td>29.06.2020</td>\n      <td>26.08.2020 16:22:01\\n03.09.2020 12:05:39</td>\n      <td>26.08.2020 17:42:39\\n04.09.2020 9:34:24</td>\n      <td>Дубов К.А.\\nДубов К.А.</td>\n      <td>Аксенова В.\\nАксенова В.</td>\n      <td>22.09.2020 0:00:00\\n31.08.2020 0:00:00</td>\n    </tr>\n    <tr>\n      <th>...</th>\n      <td>...</td>\n      <td>...</td>\n      <td>...</td>\n      <td>...</td>\n      <td>...</td>\n      <td>...</td>\n      <td>...</td>\n    </tr>\n    <tr>\n      <th>604</th>\n      <td>Ящик для инструмента</td>\n      <td>29.06.2020</td>\n      <td>29.07.2020 16:22:49</td>\n      <td>29.07.2020 16:22:50</td>\n      <td>Меньшиков И.В.</td>\n      <td>Беллер Н.С.</td>\n      <td>30.07.2020 0:00:00</td>\n    </tr>\n    <tr>\n      <th>605</th>\n      <td>Ящик для песка БКТП-05.09</td>\n      <td>29.06.2020</td>\n      <td>23.07.2020 14:58:47</td>\n      <td>24.07.2020 14:24:47</td>\n      <td>Данисевич С.С.</td>\n      <td>Беллер Н.С.</td>\n      <td>19.08.2020 0:00:00</td>\n    </tr>\n    <tr>\n      <th>606</th>\n      <td>Ящик для песка БКТП-05.09-02</td>\n      <td>29.06.2020</td>\n      <td>23.07.2020 14:58:47</td>\n      <td>24.07.2020 14:24:47</td>\n      <td>Данисевич С.С.</td>\n      <td>Беллер Н.С.</td>\n      <td>19.08.2020 0:00:00</td>\n    </tr>\n    <tr>\n      <th>607</th>\n      <td>Ящик под документы БКТП-05.00.00.20</td>\n      <td>29.06.2020</td>\n      <td>11.08.2020 9:41:21</td>\n      <td>11.08.2020 12:26:50</td>\n      <td>Данисевич С.С.</td>\n      <td>Беллер Н.С.</td>\n      <td>12.08.2020 0:00:00</td>\n    </tr>\n    <tr>\n      <th>608</th>\n      <td>Ящик под щебень БКТП-05.20</td>\n      <td>29.06.2020</td>\n      <td>23.07.2020 14:58:47</td>\n      <td>24.07.2020 14:24:47</td>\n      <td>Данисевич С.С.</td>\n      <td>Беллер Н.С.</td>\n      <td>19.08.2020 0:00:00</td>\n    </tr>\n  </tbody>\n</table>\n<p>398 rows × 7 columns</p>\n</div>"
     },
     "execution_count": 134,
     "metadata": {},
     "output_type": "execute_result"
    }
   ],
   "source": [
    "order_df = df.iloc[header_indexes[0]:header_indexes[1]]\n",
    "order_df = order_df.drop(columns=[1,3,4])\n",
    "order_df = order_df.fillna(0)\n",
    "order_df = order_df[\n",
    "    (order_df[5] != 0) & \\\n",
    "    (order_df[6] != 0) & \\\n",
    "    (order_df[7] != 0) & \\\n",
    "    (order_df[8] != 0) & \\\n",
    "    (order_df[9] != 0)\n",
    "]\n",
    "mapper = {\n",
    "    0: 'part_name',\n",
    "    2: 'initial_date',\n",
    "    5: 'creation_date',\n",
    "    6: 'approved_date',\n",
    "    7: 'master_name',\n",
    "    8: 'manager_name',\n",
    "    9: 'bill_date',\n",
    "}\n",
    "order_df = order_df.rename(columns=mapper)\n",
    "order_df"
   ],
   "metadata": {
    "collapsed": false,
    "pycharm": {
     "name": "#%%\n"
    }
   }
  },
  {
   "cell_type": "code",
   "execution_count": 135,
   "outputs": [
    {
     "data": {
      "text/plain": "      part_name initial_time creation_time approved_time            bill_time  \\\n0     DIN-рейка   2020-06-29    2020-09-03    2020-09-04  2020-09-08 00:00:00   \n1     DIN-рейка   2020-06-29    2020-09-03    2020-09-04  2020-09-08 00:00:00   \n2    DIN-рейка,   2020-06-29    2020-07-21    2020-07-21  2020-07-30 00:00:00   \n3    DIN-рейка,   2020-06-29    2020-07-21    2020-07-21  2020-07-30 00:00:00   \n4    DIN-рейка,   2020-06-29    2020-07-21    2020-07-21  2020-07-21 00:00:00   \n..          ...          ...           ...           ...                  ...   \n476        Ящик   2020-06-29    2020-07-29    2020-07-29  2020-07-30 00:00:00   \n477        Ящик   2020-06-29    2020-07-23    2020-07-24  2020-08-19 00:00:00   \n478        Ящик   2020-06-29    2020-07-23    2020-07-24  2020-08-19 00:00:00   \n479        Ящик   2020-06-29    2020-08-11    2020-08-11  2020-08-12 00:00:00   \n480        Ящик   2020-06-29    2020-07-23    2020-07-24  2020-08-19 00:00:00   \n\n                  master_name manager_name  \n0                  Дубов К.А.  Аксенова В.  \n1                  Дубов К.А.  Аксенова В.  \n2    Белокур Антон Алексеевич  Аксенова В.  \n3    Белокур Антон Алексеевич  Аксенова В.  \n4    Белокур Антон Алексеевич  Аксенова В.  \n..                        ...          ...  \n476            Меньшиков И.В.  Беллер Н.С.  \n477            Данисевич С.С.  Беллер Н.С.  \n478            Данисевич С.С.  Беллер Н.С.  \n479            Данисевич С.С.  Беллер Н.С.  \n480            Данисевич С.С.  Беллер Н.С.  \n\n[481 rows x 7 columns]",
      "text/html": "<div>\n<style scoped>\n    .dataframe tbody tr th:only-of-type {\n        vertical-align: middle;\n    }\n\n    .dataframe tbody tr th {\n        vertical-align: top;\n    }\n\n    .dataframe thead th {\n        text-align: right;\n    }\n</style>\n<table border=\"1\" class=\"dataframe\">\n  <thead>\n    <tr style=\"text-align: right;\">\n      <th></th>\n      <th>part_name</th>\n      <th>initial_time</th>\n      <th>creation_time</th>\n      <th>approved_time</th>\n      <th>bill_time</th>\n      <th>master_name</th>\n      <th>manager_name</th>\n    </tr>\n  </thead>\n  <tbody>\n    <tr>\n      <th>0</th>\n      <td>DIN-рейка</td>\n      <td>2020-06-29</td>\n      <td>2020-09-03</td>\n      <td>2020-09-04</td>\n      <td>2020-09-08 00:00:00</td>\n      <td>Дубов К.А.</td>\n      <td>Аксенова В.</td>\n    </tr>\n    <tr>\n      <th>1</th>\n      <td>DIN-рейка</td>\n      <td>2020-06-29</td>\n      <td>2020-09-03</td>\n      <td>2020-09-04</td>\n      <td>2020-09-08 00:00:00</td>\n      <td>Дубов К.А.</td>\n      <td>Аксенова В.</td>\n    </tr>\n    <tr>\n      <th>2</th>\n      <td>DIN-рейка,</td>\n      <td>2020-06-29</td>\n      <td>2020-07-21</td>\n      <td>2020-07-21</td>\n      <td>2020-07-30 00:00:00</td>\n      <td>Белокур Антон Алексеевич</td>\n      <td>Аксенова В.</td>\n    </tr>\n    <tr>\n      <th>3</th>\n      <td>DIN-рейка,</td>\n      <td>2020-06-29</td>\n      <td>2020-07-21</td>\n      <td>2020-07-21</td>\n      <td>2020-07-30 00:00:00</td>\n      <td>Белокур Антон Алексеевич</td>\n      <td>Аксенова В.</td>\n    </tr>\n    <tr>\n      <th>4</th>\n      <td>DIN-рейка,</td>\n      <td>2020-06-29</td>\n      <td>2020-07-21</td>\n      <td>2020-07-21</td>\n      <td>2020-07-21 00:00:00</td>\n      <td>Белокур Антон Алексеевич</td>\n      <td>Аксенова В.</td>\n    </tr>\n    <tr>\n      <th>...</th>\n      <td>...</td>\n      <td>...</td>\n      <td>...</td>\n      <td>...</td>\n      <td>...</td>\n      <td>...</td>\n      <td>...</td>\n    </tr>\n    <tr>\n      <th>476</th>\n      <td>Ящик</td>\n      <td>2020-06-29</td>\n      <td>2020-07-29</td>\n      <td>2020-07-29</td>\n      <td>2020-07-30 00:00:00</td>\n      <td>Меньшиков И.В.</td>\n      <td>Беллер Н.С.</td>\n    </tr>\n    <tr>\n      <th>477</th>\n      <td>Ящик</td>\n      <td>2020-06-29</td>\n      <td>2020-07-23</td>\n      <td>2020-07-24</td>\n      <td>2020-08-19 00:00:00</td>\n      <td>Данисевич С.С.</td>\n      <td>Беллер Н.С.</td>\n    </tr>\n    <tr>\n      <th>478</th>\n      <td>Ящик</td>\n      <td>2020-06-29</td>\n      <td>2020-07-23</td>\n      <td>2020-07-24</td>\n      <td>2020-08-19 00:00:00</td>\n      <td>Данисевич С.С.</td>\n      <td>Беллер Н.С.</td>\n    </tr>\n    <tr>\n      <th>479</th>\n      <td>Ящик</td>\n      <td>2020-06-29</td>\n      <td>2020-08-11</td>\n      <td>2020-08-11</td>\n      <td>2020-08-12 00:00:00</td>\n      <td>Данисевич С.С.</td>\n      <td>Беллер Н.С.</td>\n    </tr>\n    <tr>\n      <th>480</th>\n      <td>Ящик</td>\n      <td>2020-06-29</td>\n      <td>2020-07-23</td>\n      <td>2020-07-24</td>\n      <td>2020-08-19 00:00:00</td>\n      <td>Данисевич С.С.</td>\n      <td>Беллер Н.С.</td>\n    </tr>\n  </tbody>\n</table>\n<p>481 rows × 7 columns</p>\n</div>"
     },
     "execution_count": 135,
     "metadata": {},
     "output_type": "execute_result"
    }
   ],
   "source": [
    "%autoreload 2\n",
    "clean_df = pd.DataFrame()\n",
    "# clean_df.append(\n",
    "#     order_df.apply( lambda row: clean_mr(row),axis=1),\n",
    "#     ignore_index=True\n",
    "#     )\n",
    "l=order_df.apply(clean_multiple_rows, axis=1)\n",
    "for i in l:\n",
    "    clean_df = clean_df.append(i, ignore_index=True)\n",
    "clean_df"
   ],
   "metadata": {
    "collapsed": false,
    "pycharm": {
     "name": "#%%\n"
    }
   }
  },
  {
   "cell_type": "code",
   "execution_count": 136,
   "outputs": [],
   "source": [
    "order_num = None\n",
    "for word in df.iloc[header_indexes[0],0].split():\n",
    "    if 'ЭТИ0000' in word:\n",
    "        order_num = word[-4:]\n",
    "        break"
   ],
   "metadata": {
    "collapsed": false,
    "pycharm": {
     "name": "#%%\n"
    }
   }
  },
  {
   "cell_type": "code",
   "execution_count": 137,
   "outputs": [
    {
     "data": {
      "text/plain": "      part_name initial_time creation_time approved_time            bill_time  \\\n0     DIN-рейка   2020-06-29    2020-09-03    2020-09-04  2020-09-08 00:00:00   \n1     DIN-рейка   2020-06-29    2020-09-03    2020-09-04  2020-09-08 00:00:00   \n2    DIN-рейка,   2020-06-29    2020-07-21    2020-07-21  2020-07-30 00:00:00   \n3    DIN-рейка,   2020-06-29    2020-07-21    2020-07-21  2020-07-30 00:00:00   \n4    DIN-рейка,   2020-06-29    2020-07-21    2020-07-21  2020-07-21 00:00:00   \n..          ...          ...           ...           ...                  ...   \n476        Ящик   2020-06-29    2020-07-29    2020-07-29  2020-07-30 00:00:00   \n477        Ящик   2020-06-29    2020-07-23    2020-07-24  2020-08-19 00:00:00   \n478        Ящик   2020-06-29    2020-07-23    2020-07-24  2020-08-19 00:00:00   \n479        Ящик   2020-06-29    2020-08-11    2020-08-11  2020-08-12 00:00:00   \n480        Ящик   2020-06-29    2020-07-23    2020-07-24  2020-08-19 00:00:00   \n\n                  master_name manager_name order  \n0                  Дубов К.А.  Аксенова В.  1320  \n1                  Дубов К.А.  Аксенова В.  1320  \n2    Белокур Антон Алексеевич  Аксенова В.  1320  \n3    Белокур Антон Алексеевич  Аксенова В.  1320  \n4    Белокур Антон Алексеевич  Аксенова В.  1320  \n..                        ...          ...   ...  \n476            Меньшиков И.В.  Беллер Н.С.  1320  \n477            Данисевич С.С.  Беллер Н.С.  1320  \n478            Данисевич С.С.  Беллер Н.С.  1320  \n479            Данисевич С.С.  Беллер Н.С.  1320  \n480            Данисевич С.С.  Беллер Н.С.  1320  \n\n[481 rows x 8 columns]",
      "text/html": "<div>\n<style scoped>\n    .dataframe tbody tr th:only-of-type {\n        vertical-align: middle;\n    }\n\n    .dataframe tbody tr th {\n        vertical-align: top;\n    }\n\n    .dataframe thead th {\n        text-align: right;\n    }\n</style>\n<table border=\"1\" class=\"dataframe\">\n  <thead>\n    <tr style=\"text-align: right;\">\n      <th></th>\n      <th>part_name</th>\n      <th>initial_time</th>\n      <th>creation_time</th>\n      <th>approved_time</th>\n      <th>bill_time</th>\n      <th>master_name</th>\n      <th>manager_name</th>\n      <th>order</th>\n    </tr>\n  </thead>\n  <tbody>\n    <tr>\n      <th>0</th>\n      <td>DIN-рейка</td>\n      <td>2020-06-29</td>\n      <td>2020-09-03</td>\n      <td>2020-09-04</td>\n      <td>2020-09-08 00:00:00</td>\n      <td>Дубов К.А.</td>\n      <td>Аксенова В.</td>\n      <td>1320</td>\n    </tr>\n    <tr>\n      <th>1</th>\n      <td>DIN-рейка</td>\n      <td>2020-06-29</td>\n      <td>2020-09-03</td>\n      <td>2020-09-04</td>\n      <td>2020-09-08 00:00:00</td>\n      <td>Дубов К.А.</td>\n      <td>Аксенова В.</td>\n      <td>1320</td>\n    </tr>\n    <tr>\n      <th>2</th>\n      <td>DIN-рейка,</td>\n      <td>2020-06-29</td>\n      <td>2020-07-21</td>\n      <td>2020-07-21</td>\n      <td>2020-07-30 00:00:00</td>\n      <td>Белокур Антон Алексеевич</td>\n      <td>Аксенова В.</td>\n      <td>1320</td>\n    </tr>\n    <tr>\n      <th>3</th>\n      <td>DIN-рейка,</td>\n      <td>2020-06-29</td>\n      <td>2020-07-21</td>\n      <td>2020-07-21</td>\n      <td>2020-07-30 00:00:00</td>\n      <td>Белокур Антон Алексеевич</td>\n      <td>Аксенова В.</td>\n      <td>1320</td>\n    </tr>\n    <tr>\n      <th>4</th>\n      <td>DIN-рейка,</td>\n      <td>2020-06-29</td>\n      <td>2020-07-21</td>\n      <td>2020-07-21</td>\n      <td>2020-07-21 00:00:00</td>\n      <td>Белокур Антон Алексеевич</td>\n      <td>Аксенова В.</td>\n      <td>1320</td>\n    </tr>\n    <tr>\n      <th>...</th>\n      <td>...</td>\n      <td>...</td>\n      <td>...</td>\n      <td>...</td>\n      <td>...</td>\n      <td>...</td>\n      <td>...</td>\n      <td>...</td>\n    </tr>\n    <tr>\n      <th>476</th>\n      <td>Ящик</td>\n      <td>2020-06-29</td>\n      <td>2020-07-29</td>\n      <td>2020-07-29</td>\n      <td>2020-07-30 00:00:00</td>\n      <td>Меньшиков И.В.</td>\n      <td>Беллер Н.С.</td>\n      <td>1320</td>\n    </tr>\n    <tr>\n      <th>477</th>\n      <td>Ящик</td>\n      <td>2020-06-29</td>\n      <td>2020-07-23</td>\n      <td>2020-07-24</td>\n      <td>2020-08-19 00:00:00</td>\n      <td>Данисевич С.С.</td>\n      <td>Беллер Н.С.</td>\n      <td>1320</td>\n    </tr>\n    <tr>\n      <th>478</th>\n      <td>Ящик</td>\n      <td>2020-06-29</td>\n      <td>2020-07-23</td>\n      <td>2020-07-24</td>\n      <td>2020-08-19 00:00:00</td>\n      <td>Данисевич С.С.</td>\n      <td>Беллер Н.С.</td>\n      <td>1320</td>\n    </tr>\n    <tr>\n      <th>479</th>\n      <td>Ящик</td>\n      <td>2020-06-29</td>\n      <td>2020-08-11</td>\n      <td>2020-08-11</td>\n      <td>2020-08-12 00:00:00</td>\n      <td>Данисевич С.С.</td>\n      <td>Беллер Н.С.</td>\n      <td>1320</td>\n    </tr>\n    <tr>\n      <th>480</th>\n      <td>Ящик</td>\n      <td>2020-06-29</td>\n      <td>2020-07-23</td>\n      <td>2020-07-24</td>\n      <td>2020-08-19 00:00:00</td>\n      <td>Данисевич С.С.</td>\n      <td>Беллер Н.С.</td>\n      <td>1320</td>\n    </tr>\n  </tbody>\n</table>\n<p>481 rows × 8 columns</p>\n</div>"
     },
     "execution_count": 137,
     "metadata": {},
     "output_type": "execute_result"
    }
   ],
   "source": [
    "clean_df['order'] = order_num\n"
   ],
   "metadata": {
    "collapsed": false,
    "pycharm": {
     "name": "#%%\n"
    }
   }
  },
  {
   "cell_type": "code",
   "execution_count": 139,
   "outputs": [
    {
     "data": {
      "text/plain": "      part_name initial_time creation_time approved_time            bill_time  \\\n0     DIN-рейка   2020-06-29    2020-09-03    2020-09-04  2020-09-08 00:00:00   \n1     DIN-рейка   2020-06-29    2020-09-03    2020-09-04  2020-09-08 00:00:00   \n2    DIN-рейка,   2020-06-29    2020-07-21    2020-07-21  2020-07-30 00:00:00   \n3    DIN-рейка,   2020-06-29    2020-07-21    2020-07-21  2020-07-30 00:00:00   \n4    DIN-рейка,   2020-06-29    2020-07-21    2020-07-21  2020-07-21 00:00:00   \n..          ...          ...           ...           ...                  ...   \n476        Ящик   2020-06-29    2020-07-29    2020-07-29  2020-07-30 00:00:00   \n477        Ящик   2020-06-29    2020-07-23    2020-07-24  2020-08-19 00:00:00   \n478        Ящик   2020-06-29    2020-07-23    2020-07-24  2020-08-19 00:00:00   \n479        Ящик   2020-06-29    2020-08-11    2020-08-11  2020-08-12 00:00:00   \n480        Ящик   2020-06-29    2020-07-23    2020-07-24  2020-08-19 00:00:00   \n\n                  master_name manager_name order  \n0                  Дубов К.А.  Аксенова В.  1320  \n1                  Дубов К.А.  Аксенова В.  1320  \n2    Белокур Антон Алексеевич  Аксенова В.  1320  \n3    Белокур Антон Алексеевич  Аксенова В.  1320  \n4    Белокур Антон Алексеевич  Аксенова В.  1320  \n..                        ...          ...   ...  \n476            Меньшиков И.В.  Беллер Н.С.  1320  \n477            Данисевич С.С.  Беллер Н.С.  1320  \n478            Данисевич С.С.  Беллер Н.С.  1320  \n479            Данисевич С.С.  Беллер Н.С.  1320  \n480            Данисевич С.С.  Беллер Н.С.  1320  \n\n[481 rows x 8 columns]",
      "text/html": "<div>\n<style scoped>\n    .dataframe tbody tr th:only-of-type {\n        vertical-align: middle;\n    }\n\n    .dataframe tbody tr th {\n        vertical-align: top;\n    }\n\n    .dataframe thead th {\n        text-align: right;\n    }\n</style>\n<table border=\"1\" class=\"dataframe\">\n  <thead>\n    <tr style=\"text-align: right;\">\n      <th></th>\n      <th>part_name</th>\n      <th>initial_time</th>\n      <th>creation_time</th>\n      <th>approved_time</th>\n      <th>bill_time</th>\n      <th>master_name</th>\n      <th>manager_name</th>\n      <th>order</th>\n    </tr>\n  </thead>\n  <tbody>\n    <tr>\n      <th>0</th>\n      <td>DIN-рейка</td>\n      <td>2020-06-29</td>\n      <td>2020-09-03</td>\n      <td>2020-09-04</td>\n      <td>2020-09-08 00:00:00</td>\n      <td>Дубов К.А.</td>\n      <td>Аксенова В.</td>\n      <td>1320</td>\n    </tr>\n    <tr>\n      <th>1</th>\n      <td>DIN-рейка</td>\n      <td>2020-06-29</td>\n      <td>2020-09-03</td>\n      <td>2020-09-04</td>\n      <td>2020-09-08 00:00:00</td>\n      <td>Дубов К.А.</td>\n      <td>Аксенова В.</td>\n      <td>1320</td>\n    </tr>\n    <tr>\n      <th>2</th>\n      <td>DIN-рейка,</td>\n      <td>2020-06-29</td>\n      <td>2020-07-21</td>\n      <td>2020-07-21</td>\n      <td>2020-07-30 00:00:00</td>\n      <td>Белокур Антон Алексеевич</td>\n      <td>Аксенова В.</td>\n      <td>1320</td>\n    </tr>\n    <tr>\n      <th>3</th>\n      <td>DIN-рейка,</td>\n      <td>2020-06-29</td>\n      <td>2020-07-21</td>\n      <td>2020-07-21</td>\n      <td>2020-07-30 00:00:00</td>\n      <td>Белокур Антон Алексеевич</td>\n      <td>Аксенова В.</td>\n      <td>1320</td>\n    </tr>\n    <tr>\n      <th>4</th>\n      <td>DIN-рейка,</td>\n      <td>2020-06-29</td>\n      <td>2020-07-21</td>\n      <td>2020-07-21</td>\n      <td>2020-07-21 00:00:00</td>\n      <td>Белокур Антон Алексеевич</td>\n      <td>Аксенова В.</td>\n      <td>1320</td>\n    </tr>\n    <tr>\n      <th>...</th>\n      <td>...</td>\n      <td>...</td>\n      <td>...</td>\n      <td>...</td>\n      <td>...</td>\n      <td>...</td>\n      <td>...</td>\n      <td>...</td>\n    </tr>\n    <tr>\n      <th>476</th>\n      <td>Ящик</td>\n      <td>2020-06-29</td>\n      <td>2020-07-29</td>\n      <td>2020-07-29</td>\n      <td>2020-07-30 00:00:00</td>\n      <td>Меньшиков И.В.</td>\n      <td>Беллер Н.С.</td>\n      <td>1320</td>\n    </tr>\n    <tr>\n      <th>477</th>\n      <td>Ящик</td>\n      <td>2020-06-29</td>\n      <td>2020-07-23</td>\n      <td>2020-07-24</td>\n      <td>2020-08-19 00:00:00</td>\n      <td>Данисевич С.С.</td>\n      <td>Беллер Н.С.</td>\n      <td>1320</td>\n    </tr>\n    <tr>\n      <th>478</th>\n      <td>Ящик</td>\n      <td>2020-06-29</td>\n      <td>2020-07-23</td>\n      <td>2020-07-24</td>\n      <td>2020-08-19 00:00:00</td>\n      <td>Данисевич С.С.</td>\n      <td>Беллер Н.С.</td>\n      <td>1320</td>\n    </tr>\n    <tr>\n      <th>479</th>\n      <td>Ящик</td>\n      <td>2020-06-29</td>\n      <td>2020-08-11</td>\n      <td>2020-08-11</td>\n      <td>2020-08-12 00:00:00</td>\n      <td>Данисевич С.С.</td>\n      <td>Беллер Н.С.</td>\n      <td>1320</td>\n    </tr>\n    <tr>\n      <th>480</th>\n      <td>Ящик</td>\n      <td>2020-06-29</td>\n      <td>2020-07-23</td>\n      <td>2020-07-24</td>\n      <td>2020-08-19 00:00:00</td>\n      <td>Данисевич С.С.</td>\n      <td>Беллер Н.С.</td>\n      <td>1320</td>\n    </tr>\n  </tbody>\n</table>\n<p>481 rows × 8 columns</p>\n</div>"
     },
     "execution_count": 139,
     "metadata": {},
     "output_type": "execute_result"
    }
   ],
   "source": [
    "clean_df"
   ],
   "metadata": {
    "collapsed": false,
    "pycharm": {
     "name": "#%%\n"
    }
   }
  },
  {
   "cell_type": "code",
   "execution_count": 9,
   "outputs": [
    {
     "ename": "KeyboardInterrupt",
     "evalue": "",
     "output_type": "error",
     "traceback": [
      "\u001B[1;31m---------------------------------------------------------------------------\u001B[0m",
      "\u001B[1;31mKeyboardInterrupt\u001B[0m                         Traceback (most recent call last)",
      "\u001B[1;32m<ipython-input-9-8b16b15302fe>\u001B[0m in \u001B[0;36m<module>\u001B[1;34m\u001B[0m\n\u001B[0;32m      1\u001B[0m \u001B[1;32mfrom\u001B[0m \u001B[0mmain\u001B[0m \u001B[1;32mimport\u001B[0m \u001B[0mclean_1c_exel\u001B[0m\u001B[1;33m\u001B[0m\u001B[1;33m\u001B[0m\u001B[0m\n\u001B[1;32m----> 2\u001B[1;33m \u001B[0ml\u001B[0m \u001B[1;33m=\u001B[0m \u001B[0mclean_1c_exel\u001B[0m\u001B[1;33m(\u001B[0m\u001B[1;34m'C_data.xls'\u001B[0m\u001B[1;33m)\u001B[0m\u001B[1;33m\u001B[0m\u001B[1;33m\u001B[0m\u001B[0m\n\u001B[0m\u001B[0;32m      3\u001B[0m \u001B[1;33m\u001B[0m\u001B[0m\n",
      "\u001B[1;32m~\\Documents\\Project\\analitic\\timeFromStartToBill\\main.py\u001B[0m in \u001B[0;36mclean_1c_exel\u001B[1;34m(file_name)\u001B[0m\n\u001B[0;32m     63\u001B[0m         \u001B[0ml\u001B[0m \u001B[1;33m=\u001B[0m \u001B[0mdf_order_item\u001B[0m\u001B[1;33m.\u001B[0m\u001B[0mapply\u001B[0m\u001B[1;33m(\u001B[0m\u001B[0mclean_multiple_rows\u001B[0m\u001B[1;33m,\u001B[0m \u001B[0maxis\u001B[0m\u001B[1;33m=\u001B[0m\u001B[1;36m1\u001B[0m\u001B[1;33m)\u001B[0m\u001B[1;33m\u001B[0m\u001B[1;33m\u001B[0m\u001B[0m\n\u001B[0;32m     64\u001B[0m         \u001B[1;32mfor\u001B[0m \u001B[0mi\u001B[0m \u001B[1;32min\u001B[0m \u001B[0ml\u001B[0m\u001B[1;33m:\u001B[0m\u001B[1;33m\u001B[0m\u001B[1;33m\u001B[0m\u001B[0m\n\u001B[1;32m---> 65\u001B[1;33m             \u001B[0mclean_df\u001B[0m \u001B[1;33m=\u001B[0m \u001B[0mclean_df\u001B[0m\u001B[1;33m.\u001B[0m\u001B[0mappend\u001B[0m\u001B[1;33m(\u001B[0m\u001B[0mi\u001B[0m\u001B[1;33m,\u001B[0m \u001B[0mignore_index\u001B[0m\u001B[1;33m=\u001B[0m\u001B[1;32mTrue\u001B[0m\u001B[1;33m)\u001B[0m\u001B[1;33m\u001B[0m\u001B[1;33m\u001B[0m\u001B[0m\n\u001B[0m\u001B[0;32m     66\u001B[0m         \u001B[1;31m#clean_df['order_num'] = order_num_list[index]\u001B[0m\u001B[1;33m\u001B[0m\u001B[1;33m\u001B[0m\u001B[1;33m\u001B[0m\u001B[0m\n\u001B[0;32m     67\u001B[0m \u001B[1;33m\u001B[0m\u001B[0m\n",
      "\u001B[1;32m~\\.conda\\envs\\billtime\\lib\\site-packages\\pandas\\core\\frame.py\u001B[0m in \u001B[0;36mappend\u001B[1;34m(self, other, ignore_index, verify_integrity, sort)\u001B[0m\n\u001B[0;32m   7745\u001B[0m         \u001B[1;32melse\u001B[0m\u001B[1;33m:\u001B[0m\u001B[1;33m\u001B[0m\u001B[1;33m\u001B[0m\u001B[0m\n\u001B[0;32m   7746\u001B[0m             \u001B[0mto_concat\u001B[0m \u001B[1;33m=\u001B[0m \u001B[1;33m[\u001B[0m\u001B[0mself\u001B[0m\u001B[1;33m,\u001B[0m \u001B[0mother\u001B[0m\u001B[1;33m]\u001B[0m\u001B[1;33m\u001B[0m\u001B[1;33m\u001B[0m\u001B[0m\n\u001B[1;32m-> 7747\u001B[1;33m         return concat(\n\u001B[0m\u001B[0;32m   7748\u001B[0m             \u001B[0mto_concat\u001B[0m\u001B[1;33m,\u001B[0m\u001B[1;33m\u001B[0m\u001B[1;33m\u001B[0m\u001B[0m\n\u001B[0;32m   7749\u001B[0m             \u001B[0mignore_index\u001B[0m\u001B[1;33m=\u001B[0m\u001B[0mignore_index\u001B[0m\u001B[1;33m,\u001B[0m\u001B[1;33m\u001B[0m\u001B[1;33m\u001B[0m\u001B[0m\n",
      "\u001B[1;32m~\\.conda\\envs\\billtime\\lib\\site-packages\\pandas\\core\\reshape\\concat.py\u001B[0m in \u001B[0;36mconcat\u001B[1;34m(objs, axis, join, ignore_index, keys, levels, names, verify_integrity, sort, copy)\u001B[0m\n\u001B[0;32m    285\u001B[0m     )\n\u001B[0;32m    286\u001B[0m \u001B[1;33m\u001B[0m\u001B[0m\n\u001B[1;32m--> 287\u001B[1;33m     \u001B[1;32mreturn\u001B[0m \u001B[0mop\u001B[0m\u001B[1;33m.\u001B[0m\u001B[0mget_result\u001B[0m\u001B[1;33m(\u001B[0m\u001B[1;33m)\u001B[0m\u001B[1;33m\u001B[0m\u001B[1;33m\u001B[0m\u001B[0m\n\u001B[0m\u001B[0;32m    288\u001B[0m \u001B[1;33m\u001B[0m\u001B[0m\n\u001B[0;32m    289\u001B[0m \u001B[1;33m\u001B[0m\u001B[0m\n",
      "\u001B[1;32m~\\.conda\\envs\\billtime\\lib\\site-packages\\pandas\\core\\reshape\\concat.py\u001B[0m in \u001B[0;36mget_result\u001B[1;34m(self)\u001B[0m\n\u001B[0;32m    500\u001B[0m                 \u001B[0mmgrs_indexers\u001B[0m\u001B[1;33m.\u001B[0m\u001B[0mappend\u001B[0m\u001B[1;33m(\u001B[0m\u001B[1;33m(\u001B[0m\u001B[0mobj\u001B[0m\u001B[1;33m.\u001B[0m\u001B[0m_mgr\u001B[0m\u001B[1;33m,\u001B[0m \u001B[0mindexers\u001B[0m\u001B[1;33m)\u001B[0m\u001B[1;33m)\u001B[0m\u001B[1;33m\u001B[0m\u001B[1;33m\u001B[0m\u001B[0m\n\u001B[0;32m    501\u001B[0m \u001B[1;33m\u001B[0m\u001B[0m\n\u001B[1;32m--> 502\u001B[1;33m             new_data = concatenate_block_managers(\n\u001B[0m\u001B[0;32m    503\u001B[0m                 \u001B[0mmgrs_indexers\u001B[0m\u001B[1;33m,\u001B[0m \u001B[0mself\u001B[0m\u001B[1;33m.\u001B[0m\u001B[0mnew_axes\u001B[0m\u001B[1;33m,\u001B[0m \u001B[0mconcat_axis\u001B[0m\u001B[1;33m=\u001B[0m\u001B[0mself\u001B[0m\u001B[1;33m.\u001B[0m\u001B[0mbm_axis\u001B[0m\u001B[1;33m,\u001B[0m \u001B[0mcopy\u001B[0m\u001B[1;33m=\u001B[0m\u001B[0mself\u001B[0m\u001B[1;33m.\u001B[0m\u001B[0mcopy\u001B[0m\u001B[1;33m,\u001B[0m\u001B[1;33m\u001B[0m\u001B[1;33m\u001B[0m\u001B[0m\n\u001B[0;32m    504\u001B[0m             )\n",
      "\u001B[1;32m~\\.conda\\envs\\billtime\\lib\\site-packages\\pandas\\core\\internals\\concat.py\u001B[0m in \u001B[0;36mconcatenate_block_managers\u001B[1;34m(mgrs_indexers, axes, concat_axis, copy)\u001B[0m\n\u001B[0;32m     77\u001B[0m         \u001B[1;32melse\u001B[0m\u001B[1;33m:\u001B[0m\u001B[1;33m\u001B[0m\u001B[1;33m\u001B[0m\u001B[0m\n\u001B[0;32m     78\u001B[0m             b = make_block(\n\u001B[1;32m---> 79\u001B[1;33m                 \u001B[0m_concatenate_join_units\u001B[0m\u001B[1;33m(\u001B[0m\u001B[0mjoin_units\u001B[0m\u001B[1;33m,\u001B[0m \u001B[0mconcat_axis\u001B[0m\u001B[1;33m,\u001B[0m \u001B[0mcopy\u001B[0m\u001B[1;33m=\u001B[0m\u001B[0mcopy\u001B[0m\u001B[1;33m,\u001B[0m\u001B[1;33m)\u001B[0m\u001B[1;33m,\u001B[0m\u001B[1;33m\u001B[0m\u001B[1;33m\u001B[0m\u001B[0m\n\u001B[0m\u001B[0;32m     80\u001B[0m                 \u001B[0mplacement\u001B[0m\u001B[1;33m=\u001B[0m\u001B[0mplacement\u001B[0m\u001B[1;33m,\u001B[0m\u001B[1;33m\u001B[0m\u001B[1;33m\u001B[0m\u001B[0m\n\u001B[0;32m     81\u001B[0m             )\n",
      "\u001B[1;32m~\\.conda\\envs\\billtime\\lib\\site-packages\\pandas\\core\\internals\\concat.py\u001B[0m in \u001B[0;36m_concatenate_join_units\u001B[1;34m(join_units, concat_axis, copy)\u001B[0m\n\u001B[0;32m    314\u001B[0m     \u001B[0mempty_dtype\u001B[0m\u001B[1;33m,\u001B[0m \u001B[0mupcasted_na\u001B[0m \u001B[1;33m=\u001B[0m \u001B[0m_get_empty_dtype_and_na\u001B[0m\u001B[1;33m(\u001B[0m\u001B[0mjoin_units\u001B[0m\u001B[1;33m)\u001B[0m\u001B[1;33m\u001B[0m\u001B[1;33m\u001B[0m\u001B[0m\n\u001B[0;32m    315\u001B[0m \u001B[1;33m\u001B[0m\u001B[0m\n\u001B[1;32m--> 316\u001B[1;33m     to_concat = [\n\u001B[0m\u001B[0;32m    317\u001B[0m         \u001B[0mju\u001B[0m\u001B[1;33m.\u001B[0m\u001B[0mget_reindexed_values\u001B[0m\u001B[1;33m(\u001B[0m\u001B[0mempty_dtype\u001B[0m\u001B[1;33m=\u001B[0m\u001B[0mempty_dtype\u001B[0m\u001B[1;33m,\u001B[0m \u001B[0mupcasted_na\u001B[0m\u001B[1;33m=\u001B[0m\u001B[0mupcasted_na\u001B[0m\u001B[1;33m)\u001B[0m\u001B[1;33m\u001B[0m\u001B[1;33m\u001B[0m\u001B[0m\n\u001B[0;32m    318\u001B[0m         \u001B[1;32mfor\u001B[0m \u001B[0mju\u001B[0m \u001B[1;32min\u001B[0m \u001B[0mjoin_units\u001B[0m\u001B[1;33m\u001B[0m\u001B[1;33m\u001B[0m\u001B[0m\n",
      "\u001B[1;32m~\\.conda\\envs\\billtime\\lib\\site-packages\\pandas\\core\\internals\\concat.py\u001B[0m in \u001B[0;36m<listcomp>\u001B[1;34m(.0)\u001B[0m\n\u001B[0;32m    315\u001B[0m \u001B[1;33m\u001B[0m\u001B[0m\n\u001B[0;32m    316\u001B[0m     to_concat = [\n\u001B[1;32m--> 317\u001B[1;33m         \u001B[0mju\u001B[0m\u001B[1;33m.\u001B[0m\u001B[0mget_reindexed_values\u001B[0m\u001B[1;33m(\u001B[0m\u001B[0mempty_dtype\u001B[0m\u001B[1;33m=\u001B[0m\u001B[0mempty_dtype\u001B[0m\u001B[1;33m,\u001B[0m \u001B[0mupcasted_na\u001B[0m\u001B[1;33m=\u001B[0m\u001B[0mupcasted_na\u001B[0m\u001B[1;33m)\u001B[0m\u001B[1;33m\u001B[0m\u001B[1;33m\u001B[0m\u001B[0m\n\u001B[0m\u001B[0;32m    318\u001B[0m         \u001B[1;32mfor\u001B[0m \u001B[0mju\u001B[0m \u001B[1;32min\u001B[0m \u001B[0mjoin_units\u001B[0m\u001B[1;33m\u001B[0m\u001B[1;33m\u001B[0m\u001B[0m\n\u001B[0;32m    319\u001B[0m     ]\n",
      "\u001B[1;32m~\\.conda\\envs\\billtime\\lib\\site-packages\\pandas\\core\\internals\\concat.py\u001B[0m in \u001B[0;36mget_reindexed_values\u001B[1;34m(self, empty_dtype, upcasted_na)\u001B[0m\n\u001B[0;32m    299\u001B[0m         \u001B[1;32melse\u001B[0m\u001B[1;33m:\u001B[0m\u001B[1;33m\u001B[0m\u001B[1;33m\u001B[0m\u001B[0m\n\u001B[0;32m    300\u001B[0m             \u001B[1;32mfor\u001B[0m \u001B[0max\u001B[0m\u001B[1;33m,\u001B[0m \u001B[0mindexer\u001B[0m \u001B[1;32min\u001B[0m \u001B[0mself\u001B[0m\u001B[1;33m.\u001B[0m\u001B[0mindexers\u001B[0m\u001B[1;33m.\u001B[0m\u001B[0mitems\u001B[0m\u001B[1;33m(\u001B[0m\u001B[1;33m)\u001B[0m\u001B[1;33m:\u001B[0m\u001B[1;33m\u001B[0m\u001B[1;33m\u001B[0m\u001B[0m\n\u001B[1;32m--> 301\u001B[1;33m                 \u001B[0mvalues\u001B[0m \u001B[1;33m=\u001B[0m \u001B[0malgos\u001B[0m\u001B[1;33m.\u001B[0m\u001B[0mtake_nd\u001B[0m\u001B[1;33m(\u001B[0m\u001B[0mvalues\u001B[0m\u001B[1;33m,\u001B[0m \u001B[0mindexer\u001B[0m\u001B[1;33m,\u001B[0m \u001B[0maxis\u001B[0m\u001B[1;33m=\u001B[0m\u001B[0max\u001B[0m\u001B[1;33m,\u001B[0m \u001B[0mfill_value\u001B[0m\u001B[1;33m=\u001B[0m\u001B[0mfill_value\u001B[0m\u001B[1;33m)\u001B[0m\u001B[1;33m\u001B[0m\u001B[1;33m\u001B[0m\u001B[0m\n\u001B[0m\u001B[0;32m    302\u001B[0m \u001B[1;33m\u001B[0m\u001B[0m\n\u001B[0;32m    303\u001B[0m         \u001B[1;32mreturn\u001B[0m \u001B[0mvalues\u001B[0m\u001B[1;33m\u001B[0m\u001B[1;33m\u001B[0m\u001B[0m\n",
      "\u001B[1;32m~\\.conda\\envs\\billtime\\lib\\site-packages\\pandas\\core\\algorithms.py\u001B[0m in \u001B[0;36mtake_nd\u001B[1;34m(arr, indexer, axis, out, fill_value, allow_fill)\u001B[0m\n\u001B[0;32m   1730\u001B[0m             \u001B[0mout\u001B[0m \u001B[1;33m=\u001B[0m \u001B[0mnp\u001B[0m\u001B[1;33m.\u001B[0m\u001B[0mempty\u001B[0m\u001B[1;33m(\u001B[0m\u001B[0mout_shape\u001B[0m\u001B[1;33m,\u001B[0m \u001B[0mdtype\u001B[0m\u001B[1;33m=\u001B[0m\u001B[0mdtype\u001B[0m\u001B[1;33m,\u001B[0m \u001B[0morder\u001B[0m\u001B[1;33m=\u001B[0m\u001B[1;34m\"F\"\u001B[0m\u001B[1;33m)\u001B[0m\u001B[1;33m\u001B[0m\u001B[1;33m\u001B[0m\u001B[0m\n\u001B[0;32m   1731\u001B[0m         \u001B[1;32melse\u001B[0m\u001B[1;33m:\u001B[0m\u001B[1;33m\u001B[0m\u001B[1;33m\u001B[0m\u001B[0m\n\u001B[1;32m-> 1732\u001B[1;33m             \u001B[0mout\u001B[0m \u001B[1;33m=\u001B[0m \u001B[0mnp\u001B[0m\u001B[1;33m.\u001B[0m\u001B[0mempty\u001B[0m\u001B[1;33m(\u001B[0m\u001B[0mout_shape\u001B[0m\u001B[1;33m,\u001B[0m \u001B[0mdtype\u001B[0m\u001B[1;33m=\u001B[0m\u001B[0mdtype\u001B[0m\u001B[1;33m)\u001B[0m\u001B[1;33m\u001B[0m\u001B[1;33m\u001B[0m\u001B[0m\n\u001B[0m\u001B[0;32m   1733\u001B[0m \u001B[1;33m\u001B[0m\u001B[0m\n\u001B[0;32m   1734\u001B[0m     func = _get_take_nd_function(\n",
      "\u001B[1;31mKeyboardInterrupt\u001B[0m: "
     ]
    }
   ],
   "source": [
    "from main import clean_1c_exel\n",
    "l = clean_1c_exel('C_data.xls')"
   ],
   "metadata": {
    "collapsed": false,
    "pycharm": {
     "name": "#%%\n"
    }
   }
  },
  {
   "cell_type": "code",
   "execution_count": 183,
   "outputs": [
    {
     "data": {
      "text/plain": "     order_num   part_name initial_time creation_time approved_time  \\\n0         1320   DIN-рейка   2020-06-29    2020-09-03    2020-09-04   \n1         1320   DIN-рейка   2020-06-29    2020-09-03    2020-09-04   \n2         1320  DIN-рейка,   2020-06-29    2020-07-21    2020-07-21   \n3         1320  DIN-рейка,   2020-06-29    2020-07-21    2020-07-21   \n4         1320  DIN-рейка,   2020-06-29    2020-07-21    2020-07-21   \n...        ...         ...          ...           ...           ...   \n1372      1327       Эмаль   2020-07-27    2020-08-11    2020-08-11   \n1373      1327        Ящик   2020-07-27    2020-07-29    2020-07-29   \n1374      1327        Ящик   2020-07-27    2020-07-29    2020-07-30   \n1375      1327        Ящик   2020-07-27    2020-07-29    2020-07-30   \n1376      1327        Ящик   2020-07-27    2020-07-29    2020-07-30   \n\n                bill_time               master_name manager_name  \n0     2020-09-08 00:00:00                Дубов К.А.  Аксенова В.  \n1     2020-09-08 00:00:00                Дубов К.А.  Аксенова В.  \n2     2020-07-30 00:00:00  Белокур Антон Алексеевич  Аксенова В.  \n3     2020-07-30 00:00:00  Белокур Антон Алексеевич  Аксенова В.  \n4     2020-07-21 00:00:00  Белокур Антон Алексеевич  Аксенова В.  \n...                   ...                       ...          ...  \n1372  2020-08-18 00:00:00           Татариков И. В.  Беллер Н.С.  \n1373  2020-07-30 00:00:00            Меньшиков И.В.  Беллер Н.С.  \n1374  2020-08-17 00:00:00            Данисевич С.С.  Беллер Н.С.  \n1375  2020-08-17 00:00:00            Данисевич С.С.  Беллер Н.С.  \n1376  2020-08-17 00:00:00            Данисевич С.С.  Беллер Н.С.  \n\n[1377 rows x 8 columns]",
      "text/html": "<div>\n<style scoped>\n    .dataframe tbody tr th:only-of-type {\n        vertical-align: middle;\n    }\n\n    .dataframe tbody tr th {\n        vertical-align: top;\n    }\n\n    .dataframe thead th {\n        text-align: right;\n    }\n</style>\n<table border=\"1\" class=\"dataframe\">\n  <thead>\n    <tr style=\"text-align: right;\">\n      <th></th>\n      <th>order_num</th>\n      <th>part_name</th>\n      <th>initial_time</th>\n      <th>creation_time</th>\n      <th>approved_time</th>\n      <th>bill_time</th>\n      <th>master_name</th>\n      <th>manager_name</th>\n    </tr>\n  </thead>\n  <tbody>\n    <tr>\n      <th>0</th>\n      <td>1320</td>\n      <td>DIN-рейка</td>\n      <td>2020-06-29</td>\n      <td>2020-09-03</td>\n      <td>2020-09-04</td>\n      <td>2020-09-08 00:00:00</td>\n      <td>Дубов К.А.</td>\n      <td>Аксенова В.</td>\n    </tr>\n    <tr>\n      <th>1</th>\n      <td>1320</td>\n      <td>DIN-рейка</td>\n      <td>2020-06-29</td>\n      <td>2020-09-03</td>\n      <td>2020-09-04</td>\n      <td>2020-09-08 00:00:00</td>\n      <td>Дубов К.А.</td>\n      <td>Аксенова В.</td>\n    </tr>\n    <tr>\n      <th>2</th>\n      <td>1320</td>\n      <td>DIN-рейка,</td>\n      <td>2020-06-29</td>\n      <td>2020-07-21</td>\n      <td>2020-07-21</td>\n      <td>2020-07-30 00:00:00</td>\n      <td>Белокур Антон Алексеевич</td>\n      <td>Аксенова В.</td>\n    </tr>\n    <tr>\n      <th>3</th>\n      <td>1320</td>\n      <td>DIN-рейка,</td>\n      <td>2020-06-29</td>\n      <td>2020-07-21</td>\n      <td>2020-07-21</td>\n      <td>2020-07-30 00:00:00</td>\n      <td>Белокур Антон Алексеевич</td>\n      <td>Аксенова В.</td>\n    </tr>\n    <tr>\n      <th>4</th>\n      <td>1320</td>\n      <td>DIN-рейка,</td>\n      <td>2020-06-29</td>\n      <td>2020-07-21</td>\n      <td>2020-07-21</td>\n      <td>2020-07-21 00:00:00</td>\n      <td>Белокур Антон Алексеевич</td>\n      <td>Аксенова В.</td>\n    </tr>\n    <tr>\n      <th>...</th>\n      <td>...</td>\n      <td>...</td>\n      <td>...</td>\n      <td>...</td>\n      <td>...</td>\n      <td>...</td>\n      <td>...</td>\n      <td>...</td>\n    </tr>\n    <tr>\n      <th>1372</th>\n      <td>1327</td>\n      <td>Эмаль</td>\n      <td>2020-07-27</td>\n      <td>2020-08-11</td>\n      <td>2020-08-11</td>\n      <td>2020-08-18 00:00:00</td>\n      <td>Татариков И. В.</td>\n      <td>Беллер Н.С.</td>\n    </tr>\n    <tr>\n      <th>1373</th>\n      <td>1327</td>\n      <td>Ящик</td>\n      <td>2020-07-27</td>\n      <td>2020-07-29</td>\n      <td>2020-07-29</td>\n      <td>2020-07-30 00:00:00</td>\n      <td>Меньшиков И.В.</td>\n      <td>Беллер Н.С.</td>\n    </tr>\n    <tr>\n      <th>1374</th>\n      <td>1327</td>\n      <td>Ящик</td>\n      <td>2020-07-27</td>\n      <td>2020-07-29</td>\n      <td>2020-07-30</td>\n      <td>2020-08-17 00:00:00</td>\n      <td>Данисевич С.С.</td>\n      <td>Беллер Н.С.</td>\n    </tr>\n    <tr>\n      <th>1375</th>\n      <td>1327</td>\n      <td>Ящик</td>\n      <td>2020-07-27</td>\n      <td>2020-07-29</td>\n      <td>2020-07-30</td>\n      <td>2020-08-17 00:00:00</td>\n      <td>Данисевич С.С.</td>\n      <td>Беллер Н.С.</td>\n    </tr>\n    <tr>\n      <th>1376</th>\n      <td>1327</td>\n      <td>Ящик</td>\n      <td>2020-07-27</td>\n      <td>2020-07-29</td>\n      <td>2020-07-30</td>\n      <td>2020-08-17 00:00:00</td>\n      <td>Данисевич С.С.</td>\n      <td>Беллер Н.С.</td>\n    </tr>\n  </tbody>\n</table>\n<p>1377 rows × 8 columns</p>\n</div>"
     },
     "execution_count": 183,
     "metadata": {},
     "output_type": "execute_result"
    }
   ],
   "source": [
    "l"
   ],
   "metadata": {
    "collapsed": false,
    "pycharm": {
     "name": "#%%\n"
    }
   }
  },
  {
   "cell_type": "code",
   "execution_count": null,
   "outputs": [],
   "source": [],
   "metadata": {
    "collapsed": false,
    "pycharm": {
     "name": "#%%\n"
    }
   }
  }
 ],
 "metadata": {
  "kernelspec": {
   "name": "python3",
   "language": "python",
   "display_name": "Python 3"
  },
  "language_info": {
   "codemirror_mode": {
    "name": "ipython",
    "version": 2
   },
   "file_extension": ".py",
   "mimetype": "text/x-python",
   "name": "python",
   "nbconvert_exporter": "python",
   "pygments_lexer": "ipython2",
   "version": "2.7.6"
  }
 },
 "nbformat": 4,
 "nbformat_minor": 0
}